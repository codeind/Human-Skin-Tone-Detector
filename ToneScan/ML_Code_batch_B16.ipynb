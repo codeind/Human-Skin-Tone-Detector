{
 "cells": [
  {
   "cell_type": "code",
   "execution_count": 239,
   "metadata": {},
   "outputs": [],
   "source": [
    "import numpy as np\n",
    "import cv2\n",
    "from sklearn.cluster import KMeans\n",
    "from collections import Counter\n",
    "import imutils\n",
    "from matplotlib import pyplot as plt"
   ]
  },
  {
   "cell_type": "code",
   "execution_count": 548,
   "metadata": {},
   "outputs": [],
   "source": [
    "rgb_lower = [85,52,56]\n",
    "rgb_higher = [255,219,172]\n",
    "skin_shades = {\n",
    "    'dark' : [[0,0,0],[141,89,85]],\n",
    "    'mild':[[141,89,85],[159,118,85]],\n",
    "    'fair':[[159,118,85],[255,255,255]],\n",
    "}"
   ]
  },
  {
   "cell_type": "code",
   "execution_count": 549,
   "metadata": {},
   "outputs": [],
   "source": [
    "convert_skintones = {}\n",
    "for shade in skin_shades:\n",
    "    convert_skintones.update({\n",
    "        shade : [\n",
    "            (skin_shades[shade][0][0] * 256 * 256) + (skin_shades[shade][0][1] * 256) + skin_shades[shade][0][2],\n",
    "            (skin_shades[shade][1][0] * 256 * 256) + (skin_shades[shade][1][1] * 256) + skin_shades[shade][1][2]\n",
    "        ]\n",
    "    })"
   ]
  },
  {
   "cell_type": "code",
   "execution_count": 550,
   "metadata": {},
   "outputs": [],
   "source": [
    "def extractSkin(image):\n",
    "    img = image.copy()\n",
    "    black_img = np.zeros((img.shape[0],img.shape[1],img.shape[2]),dtype=np.uint8)\n",
    "    img = cv2.cvtColor(img, cv2.COLOR_BGR2HSV)\n",
    "\n",
    "    lower_threshold = np.array([0, 48, 80], dtype=np.uint8)\n",
    "    print(lower_threshold)\n",
    "    upper_threshold = np.array([20, 255, 255], dtype=np.uint8)\n",
    "    print(upper_threshold)\n",
    "\n",
    "    skinMask = cv2.inRange(img, lower_threshold, upper_threshold)\n",
    "    skin = cv2.bitwise_and(img, img, mask=skinMask)\n",
    "    return cv2.cvtColor(skin, cv2.COLOR_HSV2BGR)\n"
   ]
  },
  {
   "cell_type": "code",
   "execution_count": 551,
   "metadata": {},
   "outputs": [],
   "source": [
    "def removeBlack(estimator_labels, estimator_cluster):\n",
    "    hasBlack = False\n",
    "    occurance_counter = Counter(estimator_labels)\n",
    "    def compare(x, y): return Counter(x) == Counter(y)\n",
    "    for x in occurance_counter.most_common(len(estimator_cluster)):\n",
    "        color = [int(i) for i in estimator_cluster[x[0]].tolist()]\n",
    "        if compare(color, [0, 0, 0]) == True:\n",
    "            del occurance_counter[x[0]]\n",
    "            hasBlack = True\n",
    "            estimator_cluster = np.delete(estimator_cluster, x[0], 0)\n",
    "            break\n",
    "    return (occurance_counter, estimator_cluster, hasBlack)"
   ]
  },
  {
   "cell_type": "code",
   "execution_count": 552,
   "metadata": {},
   "outputs": [],
   "source": [
    "def getColorInformation(estimator_labels, estimator_cluster, hasThresholding=False):\n",
    "    occurance_counter = None\n",
    "    colorInformation = []\n",
    "    hasBlack = False\n",
    "    if hasThresholding == True:\n",
    "        (occurance, cluster, black) = removeBlack(\n",
    "            estimator_labels, estimator_cluster)\n",
    "        occurance_counter = occurance\n",
    "        estimator_cluster = cluster\n",
    "        hasBlack = black\n",
    "    else:\n",
    "        occurance_counter = Counter(estimator_labels)\n",
    "    totalOccurance = sum(occurance_counter.values())\n",
    "    for x in occurance_counter.most_common(len(estimator_cluster)):\n",
    "        index = (int(x[0]))\n",
    "        index = (index-1) if ((hasThresholding & hasBlack)\n",
    "                              & (int(index) != 0)) else index\n",
    "        color = estimator_cluster[index].tolist()\n",
    "        color_percentage = (x[1]/totalOccurance)\n",
    "        colorInfo = {\"cluster_index\": index, \"color\": color,\n",
    "                     \"color_percentage\": color_percentage}\n",
    "        colorInformation.append(colorInfo)\n",
    "    return colorInformation"
   ]
  },
  {
   "cell_type": "code",
   "execution_count": 553,
   "metadata": {},
   "outputs": [],
   "source": [
    "def extractDominantColor(image, number_of_colors=1, hasThresholding=False):\n",
    "    if hasThresholding == True:\n",
    "        number_of_colors += 1\n",
    "    img = image.copy()\n",
    "    img = cv2.cvtColor(img, cv2.COLOR_BGR2RGB)\n",
    "    img = img.reshape((img.shape[0]*img.shape[1]), 3)\n",
    "    estimator = KMeans(n_clusters=number_of_colors, random_state=0)\n",
    "    estimator.fit(img)\n",
    "    colorInformation = getColorInformation(\n",
    "        estimator.labels_, estimator.cluster_centers_, hasThresholding)\n",
    "    return colorInformation\n"
   ]
  },
  {
   "cell_type": "code",
   "execution_count": 554,
   "metadata": {},
   "outputs": [],
   "source": [
    "def plotColorBar(colorInformation):\n",
    "    color_bar = np.zeros((100, 500, 3), dtype=\"uint8\")\n",
    "    top_x = 0\n",
    "    for x in colorInformation:\n",
    "        bottom_x = top_x + (x[\"color_percentage\"] * color_bar.shape[1])\n",
    "        color = tuple(map(int, (x['color'])))\n",
    "        cv2.rectangle(color_bar, (int(top_x), 0),\n",
    "                      (int(bottom_x), color_bar.shape[0]), color, -1)\n",
    "        top_x = bottom_x\n",
    "    return color_bar"
   ]
  },
  {
   "cell_type": "code",
   "execution_count": 555,
   "metadata": {},
   "outputs": [
    {
     "name": "stdout",
     "output_type": "stream",
     "text": [
      "Enter image url :https://media.newstracklive.com/uploads/entertainment-news/hollywood-news/Jan/11/big_thumb/01_5e1967811ef86.jpg\n"
     ]
    }
   ],
   "source": [
    "url = input(\"Enter image url :\")"
   ]
  },
  {
   "cell_type": "code",
   "execution_count": 556,
   "metadata": {},
   "outputs": [],
   "source": [
    "image = imutils.url_to_image(url)"
   ]
  },
  {
   "cell_type": "code",
   "execution_count": 557,
   "metadata": {},
   "outputs": [
    {
     "data": {
      "text/plain": [
       "Text(0.5, 1.0, 'Original Image')"
      ]
     },
     "execution_count": 557,
     "metadata": {},
     "output_type": "execute_result"
    },
    {
     "data": {
      "image/png": "[encoded data removed]",
      "text/plain": [
       "<Figure size 432x288 with 1 Axes>"
      ]
     },
     "metadata": {
      "needs_background": "light"
     },
     "output_type": "display_data"
    }
   ],
   "source": [
    "image = imutils.resize(image, width=250)\n",
    "plt.subplot(3, 1, 1)\n",
    "plt.imshow(cv2.cvtColor(image, cv2.COLOR_BGR2RGB))\n",
    "plt.title(\"Original Image\")\n"
   ]
  },
  {
   "cell_type": "code",
   "execution_count": 558,
   "metadata": {},
   "outputs": [
    {
     "name": "stdout",
     "output_type": "stream",
     "text": [
      "[ 0 48 80]\n",
      "[ 20 255 255]\n"
     ]
    },
    {
     "data": {
      "text/plain": [
       "Text(0.5, 1.0, 'Thresholded  Image')"
      ]
     },
     "execution_count": 558,
     "metadata": {},
     "output_type": "execute_result"
    },
    {
     "data": {
      "image/png": "[encoded data removed]",
      "text/plain": [
       "<Figure size 432x288 with 1 Axes>"
      ]
     },
     "metadata": {
      "needs_background": "light"
     },
     "output_type": "display_data"
    }
   ],
   "source": [
    "skin = extractSkin(image)\n",
    "plt.subplot(3, 1, 2)\n",
    "plt.imshow(cv2.cvtColor(skin, cv2.COLOR_BGR2RGB))\n",
    "plt.title(\"Thresholded  Image\")\n"
   ]
  },
  {
   "cell_type": "code",
   "execution_count": 559,
   "metadata": {},
   "outputs": [
    {
     "name": "stdout",
     "output_type": "stream",
     "text": [
      "[{'cluster_index': 0, 'color': [9.713421358490201, 6.351196685661876, 3.7453429107978096], 'color_percentage': 0.7176256684491978}, {'cluster_index': 1, 'color': [198.96484582161537, 160.65073111601515, 132.82218349875495], 'color_percentage': 0.28237433155080216}]\n"
     ]
    }
   ],
   "source": [
    "unprocessed_dominant = extractDominantColor(skin, number_of_colors=1, hasThresholding=True)\n",
    "print(unprocessed_dominant)"
   ]
  },
  {
   "cell_type": "code",
   "execution_count": 560,
   "metadata": {},
   "outputs": [],
   "source": [
    "decimal_lower = (rgb_lower[0] * 256 * 256) + (rgb_lower[1] * 255) + rgb_lower[2]\n",
    "decimal_higher = (rgb_higher[0] * 265 * 256) + (rgb_higher[1] * 255) + rgb_higher[2]\n",
    "dominantColors = []\n",
    "for clr in unprocessed_dominant:\n",
    "    clr_decimal = int((clr['color'][0] * 256 * 256) + (clr['color'][1] * 256) + clr['color'][2])\n",
    "    if clr_decimal in range(decimal_lower,decimal_higher+1):\n",
    "        clr['decimal_color'] = clr_decimal\n",
    "        dominantColors.append(clr)\n"
   ]
  },
  {
   "cell_type": "code",
   "execution_count": 561,
   "metadata": {},
   "outputs": [],
   "source": [
    "skin_tones = []\n",
    "if len(dominantColors) == 0:\n",
    "    skin_tones.append('Unrecognized')\n",
    "else:\n",
    "    for color in dominantColors:\n",
    "        for shade in convert_skintones:\n",
    "            if color['decimal_color'] in range(convert_skintones[shade][0],convert_skintones[shade][1]+1):\n",
    "                skin_tones.append(shade)\n"
   ]
  },
  {
   "cell_type": "code",
   "execution_count": 562,
   "metadata": {},
   "outputs": [
    {
     "name": "stdout",
     "output_type": "stream",
     "text": [
      "['fair']\n"
     ]
    }
   ],
   "source": [
    "print(skin_tones)"
   ]
  },
  {
   "cell_type": "code",
   "execution_count": 563,
   "metadata": {},
   "outputs": [
    {
     "name": "stdout",
     "output_type": "stream",
     "text": [
      "Color Bar\n"
     ]
    },
    {
     "data": {
      "image/png": "[encoded data removed]",
      "text/plain": [
       "<Figure size 432x288 with 1 Axes>"
      ]
     },
     "metadata": {
      "needs_background": "light"
     },
     "output_type": "display_data"
    }
   ],
   "source": [
    "print(\"Color Bar\")\n",
    "colour_bar = plotColorBar(dominantColors)\n",
    "plt.subplot(3, 1, 3)\n",
    "plt.axis(\"off\")\n",
    "plt.imshow(colour_bar)\n",
    "plt.title(\"Color Bar\")\n",
    "plt.tight_layout()\n",
    "plt.show()\n"
   ]
  },
  {
   "cell_type": "code",
   "execution_count": null,
   "metadata": {},
   "outputs": [],
   "source": []
  },
  {
   "cell_type": "code",
   "execution_count": null,
   "metadata": {},
   "outputs": [],
   "source": []
  }
 ],
 "metadata": {
  "kernelspec": {
   "display_name": "Python 3",
   "language": "python",
   "name": "python3"
  },
  "language_info": {
   "codemirror_mode": {
    "name": "ipython",
    "version": 3
   },
   "file_extension": ".py",
   "mimetype": "text/x-python",
   "name": "python",
   "nbconvert_exporter": "python",
   "pygments_lexer": "ipython3",
   "version": "3.7.4"
  }
 },
 "nbformat": 4,
 "nbformat_minor": 2
}
